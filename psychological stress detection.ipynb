{
 "cells": [
  {
   "cell_type": "code",
   "execution_count": 39,
   "metadata": {},
   "outputs": [],
   "source": [
    "#importing the required libraries\n",
    "\n",
    "import pandas as pd\n",
    "\n",
    "# this is used for the plot the graph \n",
    "import matplotlib.pyplot as plt \n",
    "import seaborn as sns"
   ]
  },
  {
   "cell_type": "code",
   "execution_count": 40,
   "metadata": {},
   "outputs": [],
   "source": [
    "#importing dataset to train and test\n",
    "data = pd.read_csv('dev.csv')"
   ]
  },
  {
   "cell_type": "code",
   "execution_count": 41,
   "metadata": {},
   "outputs": [
    {
     "data": {
      "text/html": [
       "<div>\n",
       "<style scoped>\n",
       "    .dataframe tbody tr th:only-of-type {\n",
       "        vertical-align: middle;\n",
       "    }\n",
       "\n",
       "    .dataframe tbody tr th {\n",
       "        vertical-align: top;\n",
       "    }\n",
       "\n",
       "    .dataframe thead th {\n",
       "        text-align: right;\n",
       "    }\n",
       "</style>\n",
       "<table border=\"1\" class=\"dataframe\">\n",
       "  <thead>\n",
       "    <tr style=\"text-align: right;\">\n",
       "      <th></th>\n",
       "      <th>qtext</th>\n",
       "      <th>label</th>\n",
       "      <th>atext</th>\n",
       "    </tr>\n",
       "  </thead>\n",
       "  <tbody>\n",
       "    <tr>\n",
       "      <th>0</th>\n",
       "      <td>What ethnic group / race are Crip members ?</td>\n",
       "      <td>0</td>\n",
       "      <td>Prison gangs have a de facto negotiation syste...</td>\n",
       "    </tr>\n",
       "    <tr>\n",
       "      <th>1</th>\n",
       "      <td>What ethnic group / race are Crip members ?</td>\n",
       "      <td>0</td>\n",
       "      <td>Nor does it count many street gangs , whose me...</td>\n",
       "    </tr>\n",
       "    <tr>\n",
       "      <th>2</th>\n",
       "      <td>What ethnic group / race are Crip members ?</td>\n",
       "      <td>0</td>\n",
       "      <td>`` There was a time when most of the gang memb...</td>\n",
       "    </tr>\n",
       "    <tr>\n",
       "      <th>3</th>\n",
       "      <td>What ethnic group / race are Crip members ?</td>\n",
       "      <td>0</td>\n",
       "      <td>But now the street gang members who are being ...</td>\n",
       "    </tr>\n",
       "    <tr>\n",
       "      <th>4</th>\n",
       "      <td>What ethnic group / race are Crip members ?</td>\n",
       "      <td>0</td>\n",
       "      <td>Crips members , who did not want to be identif...</td>\n",
       "    </tr>\n",
       "    <tr>\n",
       "      <th>...</th>\n",
       "      <td>...</td>\n",
       "      <td>...</td>\n",
       "      <td>...</td>\n",
       "    </tr>\n",
       "    <tr>\n",
       "      <th>41180</th>\n",
       "      <td>677856</td>\n",
       "      <td>sad</td>\n",
       "      <td>felt sad to see this day end</td>\n",
       "    </tr>\n",
       "    <tr>\n",
       "      <th>41181</th>\n",
       "      <td>6765</td>\n",
       "      <td>sad</td>\n",
       "      <td>are you lonely and sad now?</td>\n",
       "    </tr>\n",
       "    <tr>\n",
       "      <th>41182</th>\n",
       "      <td>7675</td>\n",
       "      <td>sad</td>\n",
       "      <td>I think it hurts him to see you happy</td>\n",
       "    </tr>\n",
       "    <tr>\n",
       "      <th>41183</th>\n",
       "      <td>7665</td>\n",
       "      <td>sad</td>\n",
       "      <td>its so sad reading about it</td>\n",
       "    </tr>\n",
       "    <tr>\n",
       "      <th>41184</th>\n",
       "      <td>7645</td>\n",
       "      <td>sad</td>\n",
       "      <td>I think this would be a sad memory</td>\n",
       "    </tr>\n",
       "  </tbody>\n",
       "</table>\n",
       "<p>41185 rows × 3 columns</p>\n",
       "</div>"
      ],
      "text/plain": [
       "                                             qtext label  \\\n",
       "0      What ethnic group / race are Crip members ?     0   \n",
       "1      What ethnic group / race are Crip members ?     0   \n",
       "2      What ethnic group / race are Crip members ?     0   \n",
       "3      What ethnic group / race are Crip members ?     0   \n",
       "4      What ethnic group / race are Crip members ?     0   \n",
       "...                                            ...   ...   \n",
       "41180                                       677856   sad   \n",
       "41181                                         6765   sad   \n",
       "41182                                         7675   sad   \n",
       "41183                                         7665   sad   \n",
       "41184                                         7645   sad   \n",
       "\n",
       "                                                   atext  \n",
       "0      Prison gangs have a de facto negotiation syste...  \n",
       "1      Nor does it count many street gangs , whose me...  \n",
       "2      `` There was a time when most of the gang memb...  \n",
       "3      But now the street gang members who are being ...  \n",
       "4      Crips members , who did not want to be identif...  \n",
       "...                                                  ...  \n",
       "41180                      felt sad to see this day end   \n",
       "41181                        are you lonely and sad now?  \n",
       "41182             I think it hurts him to see you happy   \n",
       "41183                       its so sad reading about it   \n",
       "41184                I think this would be a sad memory   \n",
       "\n",
       "[41185 rows x 3 columns]"
      ]
     },
     "execution_count": 41,
     "metadata": {},
     "output_type": "execute_result"
    }
   ],
   "source": [
    "data"
   ]
  },
  {
   "cell_type": "code",
   "execution_count": 42,
   "metadata": {},
   "outputs": [],
   "source": [
    "#deleting the unwanted features\n",
    "data = data.drop('qtext',axis=1)"
   ]
  },
  {
   "cell_type": "code",
   "execution_count": 43,
   "metadata": {
    "scrolled": true
   },
   "outputs": [
    {
     "data": {
      "text/html": [
       "<div>\n",
       "<style scoped>\n",
       "    .dataframe tbody tr th:only-of-type {\n",
       "        vertical-align: middle;\n",
       "    }\n",
       "\n",
       "    .dataframe tbody tr th {\n",
       "        vertical-align: top;\n",
       "    }\n",
       "\n",
       "    .dataframe thead th {\n",
       "        text-align: right;\n",
       "    }\n",
       "</style>\n",
       "<table border=\"1\" class=\"dataframe\">\n",
       "  <thead>\n",
       "    <tr style=\"text-align: right;\">\n",
       "      <th></th>\n",
       "      <th>label</th>\n",
       "      <th>atext</th>\n",
       "    </tr>\n",
       "  </thead>\n",
       "  <tbody>\n",
       "    <tr>\n",
       "      <th>0</th>\n",
       "      <td>0</td>\n",
       "      <td>Prison gangs have a de facto negotiation syste...</td>\n",
       "    </tr>\n",
       "    <tr>\n",
       "      <th>1</th>\n",
       "      <td>0</td>\n",
       "      <td>Nor does it count many street gangs , whose me...</td>\n",
       "    </tr>\n",
       "    <tr>\n",
       "      <th>2</th>\n",
       "      <td>0</td>\n",
       "      <td>`` There was a time when most of the gang memb...</td>\n",
       "    </tr>\n",
       "    <tr>\n",
       "      <th>3</th>\n",
       "      <td>0</td>\n",
       "      <td>But now the street gang members who are being ...</td>\n",
       "    </tr>\n",
       "    <tr>\n",
       "      <th>4</th>\n",
       "      <td>0</td>\n",
       "      <td>Crips members , who did not want to be identif...</td>\n",
       "    </tr>\n",
       "  </tbody>\n",
       "</table>\n",
       "</div>"
      ],
      "text/plain": [
       "  label                                              atext\n",
       "0     0  Prison gangs have a de facto negotiation syste...\n",
       "1     0  Nor does it count many street gangs , whose me...\n",
       "2     0  `` There was a time when most of the gang memb...\n",
       "3     0  But now the street gang members who are being ...\n",
       "4     0  Crips members , who did not want to be identif..."
      ]
     },
     "execution_count": 43,
     "metadata": {},
     "output_type": "execute_result"
    }
   ],
   "source": [
    "data.head()"
   ]
  },
  {
   "cell_type": "code",
   "execution_count": 44,
   "metadata": {},
   "outputs": [
    {
     "data": {
      "text/html": [
       "<div>\n",
       "<style scoped>\n",
       "    .dataframe tbody tr th:only-of-type {\n",
       "        vertical-align: middle;\n",
       "    }\n",
       "\n",
       "    .dataframe tbody tr th {\n",
       "        vertical-align: top;\n",
       "    }\n",
       "\n",
       "    .dataframe thead th {\n",
       "        text-align: right;\n",
       "    }\n",
       "</style>\n",
       "<table border=\"1\" class=\"dataframe\">\n",
       "  <thead>\n",
       "    <tr style=\"text-align: right;\">\n",
       "      <th></th>\n",
       "      <th>label</th>\n",
       "      <th>atext</th>\n",
       "    </tr>\n",
       "  </thead>\n",
       "  <tbody>\n",
       "    <tr>\n",
       "      <th>41180</th>\n",
       "      <td>sad</td>\n",
       "      <td>felt sad to see this day end</td>\n",
       "    </tr>\n",
       "    <tr>\n",
       "      <th>41181</th>\n",
       "      <td>sad</td>\n",
       "      <td>are you lonely and sad now?</td>\n",
       "    </tr>\n",
       "    <tr>\n",
       "      <th>41182</th>\n",
       "      <td>sad</td>\n",
       "      <td>I think it hurts him to see you happy</td>\n",
       "    </tr>\n",
       "    <tr>\n",
       "      <th>41183</th>\n",
       "      <td>sad</td>\n",
       "      <td>its so sad reading about it</td>\n",
       "    </tr>\n",
       "    <tr>\n",
       "      <th>41184</th>\n",
       "      <td>sad</td>\n",
       "      <td>I think this would be a sad memory</td>\n",
       "    </tr>\n",
       "  </tbody>\n",
       "</table>\n",
       "</div>"
      ],
      "text/plain": [
       "      label                                   atext\n",
       "41180   sad           felt sad to see this day end \n",
       "41181   sad             are you lonely and sad now?\n",
       "41182   sad  I think it hurts him to see you happy \n",
       "41183   sad            its so sad reading about it \n",
       "41184   sad     I think this would be a sad memory "
      ]
     },
     "execution_count": 44,
     "metadata": {},
     "output_type": "execute_result"
    }
   ],
   "source": [
    "data.tail()"
   ]
  },
  {
   "cell_type": "code",
   "execution_count": 45,
   "metadata": {},
   "outputs": [
    {
     "data": {
      "text/html": [
       "<div>\n",
       "<style scoped>\n",
       "    .dataframe tbody tr th:only-of-type {\n",
       "        vertical-align: middle;\n",
       "    }\n",
       "\n",
       "    .dataframe tbody tr th {\n",
       "        vertical-align: top;\n",
       "    }\n",
       "\n",
       "    .dataframe thead th {\n",
       "        text-align: right;\n",
       "    }\n",
       "</style>\n",
       "<table border=\"1\" class=\"dataframe\">\n",
       "  <thead>\n",
       "    <tr style=\"text-align: right;\">\n",
       "      <th></th>\n",
       "      <th>label</th>\n",
       "      <th>atext</th>\n",
       "    </tr>\n",
       "  </thead>\n",
       "  <tbody>\n",
       "    <tr>\n",
       "      <th>8692</th>\n",
       "      <td>worry</td>\n",
       "      <td>Getting a cleaning on tues then getting a toot...</td>\n",
       "    </tr>\n",
       "    <tr>\n",
       "      <th>23610</th>\n",
       "      <td>neutral</td>\n",
       "      <td>There's like no one I ACTUALLY know on this sh...</td>\n",
       "    </tr>\n",
       "    <tr>\n",
       "      <th>6429</th>\n",
       "      <td>worry</td>\n",
       "      <td>@_kotenok !!  ... maybe they took one look at ...</td>\n",
       "    </tr>\n",
       "    <tr>\n",
       "      <th>8637</th>\n",
       "      <td>sadness</td>\n",
       "      <td>My sunglasses broke</td>\n",
       "    </tr>\n",
       "    <tr>\n",
       "      <th>13480</th>\n",
       "      <td>worry</td>\n",
       "      <td>Damn... Why does it take so long to install SB...</td>\n",
       "    </tr>\n",
       "    <tr>\n",
       "      <th>18633</th>\n",
       "      <td>worry</td>\n",
       "      <td>@TFA2431 aweee im sorry  but deep down u know ...</td>\n",
       "    </tr>\n",
       "    <tr>\n",
       "      <th>37449</th>\n",
       "      <td>neutral</td>\n",
       "      <td>@kat15lee Yups!  I still have a lot of pruning...</td>\n",
       "    </tr>\n",
       "    <tr>\n",
       "      <th>14848</th>\n",
       "      <td>sadness</td>\n",
       "      <td>@mitchelmusso i can't i can't i can't  i'm sad...</td>\n",
       "    </tr>\n",
       "    <tr>\n",
       "      <th>26456</th>\n",
       "      <td>sadness</td>\n",
       "      <td>@MisfitDior good morning misfit *passes you Ty...</td>\n",
       "    </tr>\n",
       "    <tr>\n",
       "      <th>22922</th>\n",
       "      <td>worry</td>\n",
       "      <td>@zhayrar whoa rad ! coffee makes me stay up al...</td>\n",
       "    </tr>\n",
       "  </tbody>\n",
       "</table>\n",
       "</div>"
      ],
      "text/plain": [
       "         label                                              atext\n",
       "8692     worry  Getting a cleaning on tues then getting a toot...\n",
       "23610  neutral  There's like no one I ACTUALLY know on this sh...\n",
       "6429     worry  @_kotenok !!  ... maybe they took one look at ...\n",
       "8637   sadness                                My sunglasses broke\n",
       "13480    worry  Damn... Why does it take so long to install SB...\n",
       "18633    worry  @TFA2431 aweee im sorry  but deep down u know ...\n",
       "37449  neutral  @kat15lee Yups!  I still have a lot of pruning...\n",
       "14848  sadness  @mitchelmusso i can't i can't i can't  i'm sad...\n",
       "26456  sadness  @MisfitDior good morning misfit *passes you Ty...\n",
       "22922    worry  @zhayrar whoa rad ! coffee makes me stay up al..."
      ]
     },
     "execution_count": 45,
     "metadata": {},
     "output_type": "execute_result"
    }
   ],
   "source": [
    "data.sample(10)"
   ]
  },
  {
   "cell_type": "markdown",
   "metadata": {},
   "source": [
    "\n",
    "\n",
    "# Data Preprocessing"
   ]
  },
  {
   "cell_type": "code",
   "execution_count": 46,
   "metadata": {
    "scrolled": true
   },
   "outputs": [
    {
     "name": "stdout",
     "output_type": "stream",
     "text": [
      "<class 'pandas.core.frame.DataFrame'>\n",
      "RangeIndex: 41185 entries, 0 to 41184\n",
      "Data columns (total 2 columns):\n",
      " #   Column  Non-Null Count  Dtype \n",
      "---  ------  --------------  ----- \n",
      " 0   label   41185 non-null  object\n",
      " 1   atext   41185 non-null  object\n",
      "dtypes: object(2)\n",
      "memory usage: 643.6+ KB\n"
     ]
    }
   ],
   "source": [
    "data.info()"
   ]
  },
  {
   "cell_type": "code",
   "execution_count": 47,
   "metadata": {},
   "outputs": [],
   "source": [
    "# no missisng data"
   ]
  },
  {
   "cell_type": "code",
   "execution_count": 48,
   "metadata": {},
   "outputs": [
    {
     "data": {
      "text/plain": [
       "19"
      ]
     },
     "execution_count": 48,
     "metadata": {},
     "output_type": "execute_result"
    }
   ],
   "source": [
    "len(data['label'].unique())"
   ]
  },
  {
   "cell_type": "code",
   "execution_count": 49,
   "metadata": {},
   "outputs": [
    {
     "data": {
      "text/plain": [
       "array(['0', '1', '2', 'sentiment', 'empty', 'sadness', 'enthusiasm',\n",
       "       'neutral', 'worry', 'surprise', 'love', 'fun', 'hate', 'happiness',\n",
       "       'boredom', 'relief', 'anger', 'happy', 'sad'], dtype=object)"
      ]
     },
     "execution_count": 49,
     "metadata": {},
     "output_type": "execute_result"
    }
   ],
   "source": [
    "data['label'].unique()"
   ]
  },
  {
   "cell_type": "code",
   "execution_count": 50,
   "metadata": {},
   "outputs": [
    {
     "name": "stdout",
     "output_type": "stream",
     "text": [
      "<class 'pandas.core.frame.DataFrame'>\n",
      "Int64Index: 41185 entries, 0 to 41184\n",
      "Data columns (total 2 columns):\n",
      " #   Column  Non-Null Count  Dtype \n",
      "---  ------  --------------  ----- \n",
      " 0   label   41185 non-null  object\n",
      " 1   atext   41185 non-null  object\n",
      "dtypes: object(2)\n",
      "memory usage: 965.3+ KB\n"
     ]
    }
   ],
   "source": [
    "data.dropna(inplace=True)\n",
    "data.info()"
   ]
  },
  {
   "cell_type": "code",
   "execution_count": 51,
   "metadata": {},
   "outputs": [],
   "source": [
    "data['label'] = data['label'].map({'sentiment': 3, 'empty': 5, 'sadness': 5, \n",
    "                                   'enthusiasm': 3, 'neutral': 5,\n",
    "                                   'worry': 0, 'surprise': 3,\n",
    "                                   'love': 6, 'fun': 3, 'hate': 4,\n",
    "                                   'happiness': 3, 'relief':1,\n",
    "                                   'boredom': 5,'anger': 4})"
   ]
  },
  {
   "cell_type": "code",
   "execution_count": 52,
   "metadata": {},
   "outputs": [],
   "source": [
    "data.dropna(inplace=True)"
   ]
  },
  {
   "cell_type": "code",
   "execution_count": 53,
   "metadata": {},
   "outputs": [
    {
     "name": "stdout",
     "output_type": "stream",
     "text": [
      "<class 'pandas.core.frame.DataFrame'>\n",
      "Int64Index: 40017 entries, 1153 to 41179\n",
      "Data columns (total 2 columns):\n",
      " #   Column  Non-Null Count  Dtype  \n",
      "---  ------  --------------  -----  \n",
      " 0   label   40017 non-null  float64\n",
      " 1   atext   40017 non-null  object \n",
      "dtypes: float64(1), object(1)\n",
      "memory usage: 937.9+ KB\n"
     ]
    }
   ],
   "source": [
    "data.info()"
   ]
  },
  {
   "cell_type": "code",
   "execution_count": 54,
   "metadata": {},
   "outputs": [],
   "source": [
    "# Indentify dependent variable and independent variable\n",
    "X = data.atext\n",
    "Y = data.label"
   ]
  },
  {
   "cell_type": "code",
   "execution_count": 55,
   "metadata": {},
   "outputs": [
    {
     "data": {
      "text/plain": [
       "1153                                               content\n",
       "1154     @tiffanylue i know  i was listenin to bad habi...\n",
       "1155     Layin n bed with a headache  ughhhh...waitin o...\n",
       "1156                   Funeral ceremony...gloomy friday...\n",
       "1157                  wants to hang out with friends SOON!\n",
       "                               ...                        \n",
       "41175    you guys are great thanks for making my day be...\n",
       "41176                            I hate people coming late\n",
       "41177          he looked angry and hurted at the same time\n",
       "41178    I hate people interacting in middle of the con...\n",
       "41179                       I hate people spreading rumors\n",
       "Name: atext, Length: 40017, dtype: object"
      ]
     },
     "execution_count": 55,
     "metadata": {},
     "output_type": "execute_result"
    }
   ],
   "source": [
    "X"
   ]
  },
  {
   "cell_type": "code",
   "execution_count": 56,
   "metadata": {},
   "outputs": [
    {
     "data": {
      "text/plain": [
       "1153     3.0\n",
       "1154     5.0\n",
       "1155     5.0\n",
       "1156     5.0\n",
       "1157     3.0\n",
       "        ... \n",
       "41175    3.0\n",
       "41176    4.0\n",
       "41177    4.0\n",
       "41178    4.0\n",
       "41179    4.0\n",
       "Name: label, Length: 40017, dtype: float64"
      ]
     },
     "execution_count": 56,
     "metadata": {},
     "output_type": "execute_result"
    }
   ],
   "source": [
    "Y"
   ]
  },
  {
   "cell_type": "code",
   "execution_count": 57,
   "metadata": {},
   "outputs": [],
   "source": [
    "#coverting strinbg to numerical array\n",
    "from sklearn.feature_extraction.text import CountVectorizer\n",
    "cv = CountVectorizer()\n",
    "X = cv.fit_transform(X)"
   ]
  },
  {
   "cell_type": "code",
   "execution_count": 58,
   "metadata": {},
   "outputs": [
    {
     "data": {
      "text/plain": [
       "<40017x48215 sparse matrix of type '<class 'numpy.int64'>'\n",
       "\twith 476027 stored elements in Compressed Sparse Row format>"
      ]
     },
     "execution_count": 58,
     "metadata": {},
     "output_type": "execute_result"
    }
   ],
   "source": [
    "X"
   ]
  },
  {
   "cell_type": "code",
   "execution_count": 59,
   "metadata": {},
   "outputs": [],
   "source": [
    "from sklearn.model_selection import train_test_split\n",
    "X_train , X_test , Y_train , Y_test = train_test_split(X,Y,test_size=.2,random_state=100)"
   ]
  },
  {
   "cell_type": "code",
   "execution_count": 60,
   "metadata": {},
   "outputs": [],
   "source": [
    "# data preproceesing completed"
   ]
  },
  {
   "cell_type": "code",
   "execution_count": 61,
   "metadata": {},
   "outputs": [
    {
     "data": {
      "text/plain": [
       "KNeighborsClassifier(n_neighbors=13, weights='distance')"
      ]
     },
     "execution_count": 61,
     "metadata": {},
     "output_type": "execute_result"
    }
   ],
   "source": [
    "#exploring algorithems\n",
    "#KNN\n",
    "from sklearn.neighbors import KNeighborsClassifier\n",
    "clf_WKNN = KNeighborsClassifier(n_neighbors=13,weights='distance')\n",
    "\n",
    "clf_WKNN.fit(X_train, Y_train)"
   ]
  },
  {
   "cell_type": "code",
   "execution_count": 62,
   "metadata": {},
   "outputs": [],
   "source": [
    "y_pred_WKNN = clf_WKNN.predict(X_test)"
   ]
  },
  {
   "cell_type": "code",
   "execution_count": 63,
   "metadata": {
    "scrolled": true
   },
   "outputs": [
    {
     "name": "stdout",
     "output_type": "stream",
     "text": [
      "0.3936781609195402\n"
     ]
    }
   ],
   "source": [
    "from sklearn.metrics import accuracy_score\n",
    "print(accuracy_score(y_pred_WKNN,Y_test))\n",
    "score_wknn = accuracy_score(y_pred_WKNN,Y_test)*100"
   ]
  },
  {
   "cell_type": "markdown",
   "metadata": {},
   "source": [
    "# Decision Tree"
   ]
  },
  {
   "cell_type": "code",
   "execution_count": 64,
   "metadata": {},
   "outputs": [
    {
     "data": {
      "text/plain": [
       "DecisionTreeClassifier(criterion='entropy', max_depth=11, min_samples_leaf=3,\n",
       "                       random_state=100)"
      ]
     },
     "execution_count": 64,
     "metadata": {},
     "output_type": "execute_result"
    }
   ],
   "source": [
    "clf_entropy = DecisionTreeClassifier(criterion=\"entropy\",random_state=100,max_depth=11,min_samples_leaf=3)\n",
    "clf_entropy.fit(X_train,Y_train)"
   ]
  },
  {
   "cell_type": "code",
   "execution_count": 65,
   "metadata": {},
   "outputs": [],
   "source": [
    "from sklearn.tree import DecisionTreeClassifier\n",
    "from sklearn.metrics import accuracy_score\n",
    "from sklearn import tree"
   ]
  },
  {
   "cell_type": "code",
   "execution_count": 66,
   "metadata": {},
   "outputs": [
    {
     "name": "stdout",
     "output_type": "stream",
     "text": [
      "Accuracy is 42.65367316341829\n"
     ]
    }
   ],
   "source": [
    "Y_pred_en=clf_entropy.predict(X_test)\n",
    "Y_pred_en\n",
    "print('Accuracy is',accuracy_score(Y_test,Y_pred_en)*100)\n",
    "score_dt = accuracy_score(Y_test,Y_pred_en)*100"
   ]
  },
  {
   "cell_type": "code",
   "execution_count": 67,
   "metadata": {
    "scrolled": true
   },
   "outputs": [
    {
     "name": "stdout",
     "output_type": "stream",
     "text": [
      "[[  32    6  138   10 1479   32]\n",
      " [   4   13   65    1  239   11]\n",
      " [  18   29  478    1 1352   84]\n",
      " [   2    0   17   38  244    4]\n",
      " [  20   10  245   19 2628   57]\n",
      " [   3    5  138    3  354  225]]\n"
     ]
    }
   ],
   "source": [
    "from sklearn.metrics import confusion_matrix\n",
    "print(confusion_matrix(Y_test, Y_pred_en))"
   ]
  },
  {
   "cell_type": "markdown",
   "metadata": {},
   "source": [
    "# Navie Bayes"
   ]
  },
  {
   "cell_type": "code",
   "execution_count": 68,
   "metadata": {},
   "outputs": [],
   "source": [
    "import sklearn\n",
    "from sklearn.naive_bayes import BernoulliNB\n",
    "from sklearn import metrics\n",
    "from sklearn.metrics import accuracy_score"
   ]
  },
  {
   "cell_type": "code",
   "execution_count": 69,
   "metadata": {},
   "outputs": [
    {
     "name": "stdout",
     "output_type": "stream",
     "text": [
      "BernoulliNB(binarize=0.1)\n",
      "41.454272863568214\n"
     ]
    }
   ],
   "source": [
    "BernNB = BernoulliNB(binarize=.1)\n",
    "BernNB.fit(X_train,Y_train)\n",
    "print(BernNB)\n",
    "Y_expect = Y_test\n",
    "Y_pred = BernNB.predict(X_test)\n",
    "print(accuracy_score(Y_expect,Y_pred)*100)\n",
    "score_nb = accuracy_score(Y_expect,Y_pred)*100"
   ]
  },
  {
   "cell_type": "code",
   "execution_count": 70,
   "metadata": {},
   "outputs": [
    {
     "name": "stdout",
     "output_type": "stream",
     "text": [
      "[[ 197    0  149    0 1351    0]\n",
      " [  14    0   58    0  261    0]\n",
      " [  82    0  498    0 1378    4]\n",
      " [  21    0   14    0  270    0]\n",
      " [ 165    0  192    0 2618    4]\n",
      " [  15    0  245    0  463    5]]\n"
     ]
    }
   ],
   "source": [
    "from sklearn.metrics import confusion_matrix\n",
    "print(confusion_matrix(Y_test, Y_pred))"
   ]
  },
  {
   "cell_type": "code",
   "execution_count": 71,
   "metadata": {},
   "outputs": [
    {
     "name": "stderr",
     "output_type": "stream",
     "text": [
      "C:\\Users\\ADMIN\\anaconda3\\lib\\site-packages\\sklearn\\linear_model\\_logistic.py:763: ConvergenceWarning: lbfgs failed to converge (status=1):\n",
      "STOP: TOTAL NO. of ITERATIONS REACHED LIMIT.\n",
      "\n",
      "Increase the number of iterations (max_iter) or scale the data as shown in:\n",
      "    https://scikit-learn.org/stable/modules/preprocessing.html\n",
      "Please also refer to the documentation for alternative solver options:\n",
      "    https://scikit-learn.org/stable/modules/linear_model.html#logistic-regression\n",
      "  n_iter_i = _check_optimize_result(\n"
     ]
    }
   ],
   "source": [
    "from sklearn.linear_model import LogisticRegression\n",
    "\n",
    "# instantiate the model (using the default parameters)\n",
    "logreg = LogisticRegression()\n",
    "\n",
    "# fit the model with data\n",
    "logreg.fit(X_train,Y_train)\n",
    "\n",
    "#\n",
    "y_pred=logreg.predict(X_test)"
   ]
  },
  {
   "cell_type": "code",
   "execution_count": 72,
   "metadata": {},
   "outputs": [
    {
     "data": {
      "text/plain": [
       "44.09045477261369"
      ]
     },
     "execution_count": 72,
     "metadata": {},
     "output_type": "execute_result"
    }
   ],
   "source": [
    "score_lr = accuracy_score(Y_test,y_pred)*100\n",
    "score_lr"
   ]
  },
  {
   "cell_type": "code",
   "execution_count": 73,
   "metadata": {},
   "outputs": [
    {
     "data": {
      "text/plain": [
       "RandomForestClassifier(max_depth=2, random_state=0)"
      ]
     },
     "execution_count": 73,
     "metadata": {},
     "output_type": "execute_result"
    }
   ],
   "source": [
    "# Random forest \n",
    "from sklearn.ensemble import RandomForestClassifier\n",
    "rf = RandomForestClassifier(max_depth=2, random_state=0)\n",
    "rf.fit(X_train, Y_train)"
   ]
  },
  {
   "cell_type": "code",
   "execution_count": 74,
   "metadata": {},
   "outputs": [],
   "source": [
    "y_pred = rf.predict(X_test)"
   ]
  },
  {
   "cell_type": "code",
   "execution_count": 75,
   "metadata": {},
   "outputs": [
    {
     "data": {
      "text/plain": [
       "37.21889055472264"
      ]
     },
     "execution_count": 75,
     "metadata": {},
     "output_type": "execute_result"
    }
   ],
   "source": [
    "score_rf = accuracy_score(Y_test,y_pred)*100\n",
    "score_rf"
   ]
  },
  {
   "cell_type": "code",
   "execution_count": 76,
   "metadata": {
    "scrolled": true
   },
   "outputs": [
    {
     "name": "stdout",
     "output_type": "stream",
     "text": [
      "The accuracy score achieved using DecisionTreeClassifier is: 42.65367316341829 %\n",
      "The accuracy score achieved using naive_bayes is: 41.454272863568214 %\n",
      "The accuracy score achieved using Logistic Regression is: 44.09045477261369 %\n",
      "The accuracy score achieved using KNN is: 39.36781609195402 %\n",
      "The accuracy score achieved using Random forest is: 37.21889055472264 %\n"
     ]
    }
   ],
   "source": [
    "\n",
    "scores = [score_dt,score_nb,score_lr,score_wknn,score_rf]\n",
    "algorithms = [\"DecisionTreeClassifier\",\"naive_bayes\",\"Logistic Regression\",\"KNN\",\"Random forest\"]    \n",
    "\n",
    "for i in range(len(algorithms)):\n",
    "    print(\"The accuracy score achieved using \"+algorithms[i]+\" is: \"+str(scores[i])+\" %\")"
   ]
  },
  {
   "cell_type": "code",
   "execution_count": 77,
   "metadata": {},
   "outputs": [
    {
     "name": "stdout",
     "output_type": "stream",
     "text": [
      "Enter your Message:happy mothers day my love\n",
      "my_prediction 6.0\n"
     ]
    }
   ],
   "source": [
    "data = input('Enter your Message:')\n",
    "vect = cv.transform([data]).toarray()\n",
    "my_prediction = logreg.predict(vect)\n",
    "print('my_prediction',my_prediction[0])"
   ]
  },
  {
   "cell_type": "code",
   "execution_count": 78,
   "metadata": {},
   "outputs": [
    {
     "name": "stderr",
     "output_type": "stream",
     "text": [
      "C:\\Users\\ADMIN\\anaconda3\\lib\\site-packages\\seaborn\\_decorators.py:36: FutureWarning: Pass the following variables as keyword args: x, y. From version 0.12, the only valid positional argument will be `data`, and passing other arguments without an explicit keyword will result in an error or misinterpretation.\n",
      "  warnings.warn(\n"
     ]
    },
    {
     "data": {
      "text/plain": [
       "<AxesSubplot:xlabel='Algorithms', ylabel='Accuracy score'>"
      ]
     },
     "execution_count": 78,
     "metadata": {},
     "output_type": "execute_result"
    },
    {
     "data": {
      "image/png": "[encoded data removed]",
      "text/plain": [
       "<Figure size 1080x576 with 1 Axes>"
      ]
     },
     "metadata": {},
     "output_type": "display_data"
    }
   ],
   "source": [
    "sns.set(rc={'figure.figsize':(15,8)})\n",
    "plt.xlabel(\"Algorithms\")\n",
    "plt.ylabel(\"Accuracy score\")\n",
    "\n",
    "sns.barplot(algorithms,scores)"
   ]
  },
  {
   "cell_type": "code",
   "execution_count": 79,
   "metadata": {},
   "outputs": [],
   "source": [
    "#!pip install tweepy"
   ]
  },
  {
   "cell_type": "code",
   "execution_count": null,
   "metadata": {},
   "outputs": [
    {
     "name": "stderr",
     "output_type": "stream",
     "text": [
      "Exception in Tkinter callback\n",
      "Traceback (most recent call last):\n",
      "  File \"C:\\Users\\ADMIN\\anaconda3\\lib\\site-packages\\urllib3\\connection.py\", line 169, in _new_conn\n",
      "    conn = connection.create_connection(\n",
      "  File \"C:\\Users\\ADMIN\\anaconda3\\lib\\site-packages\\urllib3\\util\\connection.py\", line 73, in create_connection\n",
      "    for res in socket.getaddrinfo(host, port, family, socket.SOCK_STREAM):\n",
      "  File \"C:\\Users\\ADMIN\\anaconda3\\lib\\socket.py\", line 918, in getaddrinfo\n",
      "    for res in _socket.getaddrinfo(host, port, family, type, proto, flags):\n",
      "socket.gaierror: [Errno 11001] getaddrinfo failed\n",
      "\n",
      "During handling of the above exception, another exception occurred:\n",
      "\n",
      "Traceback (most recent call last):\n",
      "  File \"C:\\Users\\ADMIN\\anaconda3\\lib\\site-packages\\urllib3\\connectionpool.py\", line 699, in urlopen\n",
      "    httplib_response = self._make_request(\n",
      "  File \"C:\\Users\\ADMIN\\anaconda3\\lib\\site-packages\\urllib3\\connectionpool.py\", line 382, in _make_request\n",
      "    self._validate_conn(conn)\n",
      "  File \"C:\\Users\\ADMIN\\anaconda3\\lib\\site-packages\\urllib3\\connectionpool.py\", line 1010, in _validate_conn\n",
      "    conn.connect()\n",
      "  File \"C:\\Users\\ADMIN\\anaconda3\\lib\\site-packages\\urllib3\\connection.py\", line 353, in connect\n",
      "    conn = self._new_conn()\n",
      "  File \"C:\\Users\\ADMIN\\anaconda3\\lib\\site-packages\\urllib3\\connection.py\", line 181, in _new_conn\n",
      "    raise NewConnectionError(\n",
      "urllib3.exceptions.NewConnectionError: <urllib3.connection.HTTPSConnection object at 0x000001A10C1C44F0>: Failed to establish a new connection: [Errno 11001] getaddrinfo failed\n",
      "\n",
      "During handling of the above exception, another exception occurred:\n",
      "\n",
      "Traceback (most recent call last):\n",
      "  File \"C:\\Users\\ADMIN\\anaconda3\\lib\\site-packages\\requests\\adapters.py\", line 439, in send\n",
      "    resp = conn.urlopen(\n",
      "  File \"C:\\Users\\ADMIN\\anaconda3\\lib\\site-packages\\urllib3\\connectionpool.py\", line 755, in urlopen\n",
      "    retries = retries.increment(\n",
      "  File \"C:\\Users\\ADMIN\\anaconda3\\lib\\site-packages\\urllib3\\util\\retry.py\", line 574, in increment\n",
      "    raise MaxRetryError(_pool, url, error or ResponseError(cause))\n",
      "urllib3.exceptions.MaxRetryError: HTTPSConnectionPool(host='api.twitter.com', port=443): Max retries exceeded with url: /1.1/search/tweets.json?q=%40shilpa+&count=100&lang=en&since=2017-04-03 (Caused by NewConnectionError('<urllib3.connection.HTTPSConnection object at 0x000001A10C1C44F0>: Failed to establish a new connection: [Errno 11001] getaddrinfo failed'))\n",
      "\n",
      "During handling of the above exception, another exception occurred:\n",
      "\n",
      "Traceback (most recent call last):\n",
      "  File \"C:\\Users\\ADMIN\\anaconda3\\lib\\site-packages\\tweepy\\binder.py\", line 184, in execute\n",
      "    resp = self.session.request(self.method,\n",
      "  File \"C:\\Users\\ADMIN\\anaconda3\\lib\\site-packages\\requests\\sessions.py\", line 542, in request\n",
      "    resp = self.send(prep, **send_kwargs)\n",
      "  File \"C:\\Users\\ADMIN\\anaconda3\\lib\\site-packages\\requests\\sessions.py\", line 655, in send\n",
      "    r = adapter.send(request, **kwargs)\n",
      "  File \"C:\\Users\\ADMIN\\anaconda3\\lib\\site-packages\\requests\\adapters.py\", line 516, in send\n",
      "    raise ConnectionError(e, request=request)\n",
      "requests.exceptions.ConnectionError: HTTPSConnectionPool(host='api.twitter.com', port=443): Max retries exceeded with url: /1.1/search/tweets.json?q=%40shilpa+&count=100&lang=en&since=2017-04-03 (Caused by NewConnectionError('<urllib3.connection.HTTPSConnection object at 0x000001A10C1C44F0>: Failed to establish a new connection: [Errno 11001] getaddrinfo failed'))\n",
      "\n",
      "During handling of the above exception, another exception occurred:\n",
      "\n",
      "Traceback (most recent call last):\n",
      "  File \"C:\\Users\\ADMIN\\anaconda3\\lib\\tkinter\\__init__.py\", line 1892, in __call__\n",
      "    return self.func(*args)\n",
      "  File \"<ipython-input-80-edf5b35aff11>\", line 78, in get_tweets\n",
      "    for tweet in tweepy.Cursor(api.search,q=username,count=100,lang=\"en\",since=\"2017-04-03\").items(number_of_tweets):\n",
      "  File \"C:\\Users\\ADMIN\\anaconda3\\lib\\site-packages\\tweepy\\cursor.py\", line 51, in __next__\n",
      "    return self.next()\n",
      "  File \"C:\\Users\\ADMIN\\anaconda3\\lib\\site-packages\\tweepy\\cursor.py\", line 243, in next\n",
      "    self.current_page = self.page_iterator.next()\n",
      "  File \"C:\\Users\\ADMIN\\anaconda3\\lib\\site-packages\\tweepy\\cursor.py\", line 132, in next\n",
      "    data = self.method(max_id=self.max_id, parser=RawParser(), *self.args, **self.kwargs)\n",
      "  File \"C:\\Users\\ADMIN\\anaconda3\\lib\\site-packages\\tweepy\\binder.py\", line 253, in _call\n",
      "    return method.execute()\n",
      "  File \"C:\\Users\\ADMIN\\anaconda3\\lib\\site-packages\\tweepy\\binder.py\", line 192, in execute\n",
      "    six.reraise(TweepError, TweepError('Failed to send request: %s' % e), sys.exc_info()[2])\n",
      "  File \"C:\\Users\\ADMIN\\anaconda3\\lib\\site-packages\\six.py\", line 702, in reraise\n",
      "    raise value.with_traceback(tb)\n",
      "  File \"C:\\Users\\ADMIN\\anaconda3\\lib\\site-packages\\tweepy\\binder.py\", line 184, in execute\n",
      "    resp = self.session.request(self.method,\n",
      "  File \"C:\\Users\\ADMIN\\anaconda3\\lib\\site-packages\\requests\\sessions.py\", line 542, in request\n",
      "    resp = self.send(prep, **send_kwargs)\n",
      "  File \"C:\\Users\\ADMIN\\anaconda3\\lib\\site-packages\\requests\\sessions.py\", line 655, in send\n",
      "    r = adapter.send(request, **kwargs)\n",
      "  File \"C:\\Users\\ADMIN\\anaconda3\\lib\\site-packages\\requests\\adapters.py\", line 516, in send\n",
      "    raise ConnectionError(e, request=request)\n",
      "tweepy.error.TweepError: Failed to send request: HTTPSConnectionPool(host='api.twitter.com', port=443): Max retries exceeded with url: /1.1/search/tweets.json?q=%40shilpa+&count=100&lang=en&since=2017-04-03 (Caused by NewConnectionError('<urllib3.connection.HTTPSConnection object at 0x000001A10C1C44F0>: Failed to establish a new connection: [Errno 11001] getaddrinfo failed'))\n",
      "Exception in Tkinter callback\n",
      "Traceback (most recent call last):\n",
      "  File \"C:\\Users\\ADMIN\\anaconda3\\lib\\tkinter\\__init__.py\", line 1892, in __call__\n",
      "    return self.func(*args)\n",
      "  File \"<ipython-input-80-edf5b35aff11>\", line 91, in OpenFile_train\n",
      "    index = data[0].index('b')\n",
      "IndexError: list index out of range\n"
     ]
    },
    {
     "name": "stdout",
     "output_type": "stream",
     "text": [
      "my_prediction 5.0\n",
      "Not depressed\n",
      "my_prediction 0.0\n",
      "depressd\n",
      "my_prediction 0.0\n",
      "depressd\n",
      "my_prediction 6.0\n",
      "Love\n",
      "my_prediction 6.0\n",
      "Not depressed\n"
     ]
    }
   ],
   "source": [
    "import tweepy\n",
    "import pandas as pd \n",
    "import csv\n",
    "from tkinter import *\n",
    "from tkinter import messagebox\n",
    "from tkinter.filedialog import askopenfilename\n",
    "import matplotlib.pyplot as plt\n",
    "import numpy as np\n",
    "import pandas as pd\n",
    "from PIL import ImageTk,Image\n",
    "import seaborn as sns\n",
    "root = Tk()\n",
    "title_name = 'Psychological stress prediction'\n",
    "root.title(title_name)\n",
    "# bg_image = PhotoImage(file =\"agri1 (2).ppm\")\n",
    "# x = Label (image = bg_image)\n",
    "# x.grid(row = 0, column = 0)\n",
    "root.geometry('1050x650')\n",
    "#root.configure(background=\"white\")\n",
    "\n",
    "var = StringVar()\n",
    "label = Label( root, textvariable = var,font=('arial',20,'bold'),bd=20,bg=\"Steel Blue2\")\n",
    "var.set(title_name)\n",
    "label.grid(row=0,columnspan=6,column=3)\n",
    "\n",
    "def rule_file():\n",
    "    root1=Tk()\n",
    "    root1.title(\"login page\")\n",
    "    root1.geometry('600x500')\n",
    "    #root1.configure(background=\"SkyBlue2\")\n",
    "    def login():\n",
    "        user = E.get()\n",
    "        password = E1.get()\n",
    "        admin_login(user,password)\n",
    "    L=Label(root1, text = \"Username\",bd=8,background=\"aliceblue\",height=1,padx=16,pady=16,font=('arial',16,'bold'),width=10,).grid(row = 0,column=0)\n",
    "    E=Entry(root1)\n",
    "    E.grid(row = 0, column = 1)\n",
    "    L1=Label(root1, text = \"Password\",bd=8,background=\"aliceblue\",height=1,padx=16,pady=16,font=('arial',16,'bold'),width=10,).grid(row = 1,column=0)\n",
    "    E1=Entry(root1,show=\"*\")\n",
    "    E1.grid(row = 1, column = 1)\n",
    "    B1=Button(root1,text=\"Login\",width=4,height=1,command=login,bd=8,background=\"lawngreen\")\n",
    "    B1.grid(row = 2, column = 1)\n",
    "    root1.mainloop()\n",
    "\n",
    "def admin_login(user,password):\n",
    "    if user == \"admin\" and password == \"admin\":\n",
    "        plot_graph()\n",
    "\n",
    "\n",
    "def plot_graph():\n",
    "    root10 = Tk()\n",
    "    root10.title('GRAPHS')\n",
    "    root10.geometry('900x800')\n",
    "    #root10.configure(background=\"moonwhite\")\n",
    "\n",
    "    #Get your Twitter API credentials and enter them here\n",
    "    consumer_key = \"mDDxXp6AD7nDlW1iccfu4QCBy\"\n",
    "    consumer_secret = \"5ejGS33wUtRej3ClYWniw9ztK7rAbsaUjO0nsMTtrNPcTZPZjK\"\n",
    "    access_key = \"3220527972-lEs0rHzBEUPcTiNxcl4M06V1BUrkYEqyxVx87FA\"\n",
    "    access_secret = \"VLUa4SHApjz7DYXPUgfsr75wM4wqZ8CmhcjZNoKb0rqPU\"\n",
    "\n",
    "    def get_tweets():\n",
    "        #global E1\n",
    "        username = E1.get()\n",
    "        #http://tweepy.readthedocs.org/en/v3.1.0/getting_started.html#api\n",
    "        auth = tweepy.OAuthHandler(consumer_key, consumer_secret)\n",
    "        auth.set_access_token(access_key, access_secret)\n",
    "        api = tweepy.API(auth)\n",
    "        #set count to however many tweets you want\n",
    "        number_of_tweets = 100\n",
    "        #get tweets\n",
    "        tweets_for_csv = []\n",
    "        # Open/Create a file to append data\n",
    "        csvFile = open(username[1:]+'.csv', 'a')\n",
    "        #Use csv Writer\n",
    "        csvWriter = csv.writer(csvFile)\n",
    "\n",
    "        for tweet in tweepy.Cursor(api.search,q=username,count=100,lang=\"en\",since=\"2017-04-03\").items(number_of_tweets):\n",
    "            print (tweet.created_at, tweet.text)\n",
    "            csvWriter.writerow([tweet.created_at, tweet.text.encode('utf-8')])\n",
    "\n",
    "\n",
    "    def OpenFile_train():\n",
    "        global data,data1,name\n",
    "        name = askopenfilename(initialdir=\"C:/Users/Batman/Documents/Programming/tkinter/\",\n",
    "                               filetypes =((\"csv File\", \"*.csv\"),(\"All Files\",\"*.*\")),\n",
    "                               title = \"Choose a file.\")\n",
    "        try:\n",
    "            with open(name,'r') as UseFile:\n",
    "                data = UseFile.readlines()\n",
    "                index = data[0].index('b')\n",
    "                print(data[0][index+2:])\n",
    "                e3.delete(0,END)\n",
    "                e3.insert(0,data[0][index+2:])\n",
    "        except FileNotFoundError:\n",
    "             print(\"No file exists\") \n",
    "\n",
    "    def psychologicalstress_via_tweet():\n",
    "        msg = E1.get()\n",
    "        vect = cv.transform([msg]).toarray()\n",
    "        my_prediction = logreg.predict (vect)\n",
    "        print('my_prediction',my_prediction[0])\n",
    "        if my_prediction[0] == 0:\n",
    "            print(\"depressd\")\n",
    "            e4.delete(0,END)\n",
    "            e4.insert(0,'depressd')\n",
    "        else:\n",
    "            print(\"Not depressed\")\n",
    "            e4.delete(0,END)\n",
    "            e4.insert(0,'Not depressed')\n",
    "\n",
    "\n",
    "    def detect_psychologicalstress():\n",
    "        msg = e3.get()\n",
    "        vect = cv.transform([msg]).toarray()\n",
    "        my_prediction = logreg.predict(vect)\n",
    "        print('my_prediction',my_prediction[0])\n",
    "\n",
    "        if my_prediction[0] == 0:\n",
    "            print(\"depressd\")\n",
    "            e4.delete(0,END)\n",
    "            e4.insert(0,'depressd')\n",
    "        elif my_prediction[0] == 2:\n",
    "            print(\"Blocked\")\n",
    "            e4.delete(0,END)\n",
    "            e4.insert(0,'Blocked')\n",
    "        elif my_prediction[0] == 3:\n",
    "            print(\"Happy\")\n",
    "            e4.delete(0,END)\n",
    "            e4.insert(0,'Happy')\n",
    "        elif my_prediction[0] == 4:\n",
    "            print(\"Hate\")\n",
    "            e4.delete(0,END)\n",
    "            e4.insert(0,'Hate') \n",
    "        elif my_prediction[0] == 5:\n",
    "            print(\"Sad\")\n",
    "            e4.delete(0,END)\n",
    "            e4.insert(0,'Sad')  \n",
    "            \n",
    "        elif my_prediction[0] == 6:\n",
    "            print(\"Love\")\n",
    "            e4.delete(0,END)\n",
    "            e4.insert(0,'Love')  \n",
    "        else:\n",
    "            print(\"Not depressed\")\n",
    "            e4.delete(0,END)\n",
    "            e4.insert(0,'Not depressed')\n",
    "\n",
    "\n",
    "    L  = Label(root10, text = \"Enter Name\",bd=8,height=1,padx=16,pady=16,font=('arial',16,'bold'),width=10,)\n",
    "    L.grid(row = 1,column=0)\n",
    "\n",
    "    E1  = Entry(root10)\n",
    "    E1.grid(row=1,column=5)\n",
    "\n",
    "    B1 = Button(root10, text = \"get tweets\",height=1,padx=16,pady=16,bd=8,font=('arial',16,'bold'),width=10,bg=\"white\",command = get_tweets)\n",
    "    B1.grid(row=2,column=3)\n",
    "\n",
    "    B2 = Button(root10, text = \"Browse file\",height=1,padx=16,pady=16,bd=8,font=('arial',16,'bold'),width=10,bg=\"white\",command = OpenFile_train)\n",
    "    B2.grid(row=2,column=4)\n",
    "\n",
    "    B3 = Button(root10, text = \"Tweet Predict\",height=1,padx=16,pady=16,bd=8,bg=\"SteelBlue1\",font=('arial',16,'bold'),\\\n",
    "                width=10,command = psychologicalstress_via_tweet)\n",
    "    B3.grid(row=2,column=5)\n",
    "\n",
    "\n",
    "    L2  = Label(root10, text = \"Entry Message\",bd=8,height=1,padx=16,pady=16,font=('arial',16,'bold'),width=10,).grid(row = 3,column=0)\n",
    "\n",
    "    e3 = Entry(root10)\n",
    "    e3.grid(row=3,column=3)\n",
    "\n",
    "    B2 = Button(root10, text = \"Text predict\",height=1,padx=16,pady=16,bd=8,font=('arial',16,'bold'),\\\n",
    "                width=10,bg=\"lemon chiffon\",command = detect_psychologicalstress)\n",
    "    B2.grid(row=4,column=3)\n",
    "\n",
    "    e4 = Entry(root10)\n",
    "    e4.grid(row=4,column=4)\n",
    "    \n",
    "    root10.mainloop()\n",
    "\n",
    "# B3= Button(root, text = \"Plot psychological_stress\",height=1,padx=16,pady=16,bd=8,font=('arial',16,'bold'),width=10,bg=\"white\",command = plot_psychologicalstress)\n",
    "# B3.grid(row=5,column=3)\n",
    "\n",
    "B_rule = Button(root, text = \"User\",height=1,padx=16,pady=16,bd=8,font=('arial',16,'bold'),\\\n",
    "                width=10,command=rule_file)\n",
    "B_rule.grid(row=4,column=1) \n",
    "\n",
    "output = Entry(root)\n",
    "\n",
    "root.mainloop()"
   ]
  },
  {
   "cell_type": "code",
   "execution_count": null,
   "metadata": {},
   "outputs": [],
   "source": [
    "!pip install tweepy"
   ]
  },
  {
   "cell_type": "code",
   "execution_count": null,
   "metadata": {},
   "outputs": [],
   "source": []
  }
 ],
 "metadata": {
  "kernelspec": {
   "display_name": "Python 3",
   "language": "python",
   "name": "python3"
  },
  "language_info": {
   "codemirror_mode": {
    "name": "ipython",
    "version": 3
   },
   "file_extension": ".py",
   "mimetype": "text/x-python",
   "name": "python",
   "nbconvert_exporter": "python",
   "pygments_lexer": "ipython3",
   "version": "3.8.8"
  }
 },
 "nbformat": 4,
 "nbformat_minor": 2
}
